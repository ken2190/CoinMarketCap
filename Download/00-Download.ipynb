{
 "cells": [
  {
   "cell_type": "code",
   "execution_count": 1,
   "metadata": {},
   "outputs": [],
   "source": [
    "import requests, json, time"
   ]
  },
  {
   "cell_type": "code",
   "execution_count": 9,
   "metadata": {},
   "outputs": [],
   "source": [
    "i = 10_000\n",
    "while i < 11_200:\n",
    "    try:\n",
    "        r = requests.get(f\"https://api.coinmarketcap.com/data-api/v3/cryptocurrency/\\\n",
    "detail?id={i}\")\n",
    "        js = r.json()\n",
    "        json.dump(js, open(f\"detail/{i}.json\", \"w\"))\n",
    "    except:\n",
    "        print(i)\n",
    "    if i % 10 == 0:\n",
    "        time.sleep(2)\n",
    "    i += 1"
   ]
  },
  {
   "cell_type": "code",
   "execution_count": 2,
   "metadata": {},
   "outputs": [],
   "source": [
    "i = 3500\n",
    "while i < 10_000:\n",
    "    try:\n",
    "        r = requests.get(f\"https://api.coinmarketcap.com/data-api/v3/cryptocurrency/\\\n",
    "detail/chart?id={i}&range=ALL\")\n",
    "        js = r.json()\n",
    "        json.dump(js, open(f\"chart/{i}.json\", \"w\")) \n",
    "    except:\n",
    "        print(i)\n",
    "    if i % 10 == 0:\n",
    "        time.sleep(2)\n",
    "    i += 1"
   ]
  },
  {
   "cell_type": "markdown",
   "metadata": {},
   "source": [
    "https://api.coinmarketcap.com/data-api/v3/cryptocurrency/historical\n",
    "?id=1\n",
    "&convertId=2781 # for (2781 - USD) (2790 - EUR)\n",
    "&timeStart=1622505600\n",
    "&timeEnd=1627776000"
   ]
  }
 ],
 "metadata": {
  "kernelspec": {
   "display_name": "4Tipe",
   "language": "python",
   "name": "4tipe"
  },
  "language_info": {
   "codemirror_mode": {
    "name": "ipython",
    "version": 3
   },
   "file_extension": ".py",
   "mimetype": "text/x-python",
   "name": "python",
   "nbconvert_exporter": "python",
   "pygments_lexer": "ipython3",
   "version": "3.8.10"
  },
  "toc": {
   "base_numbering": 1,
   "nav_menu": {},
   "number_sections": true,
   "sideBar": true,
   "skip_h1_title": true,
   "title_cell": "Table of Contents",
   "title_sidebar": "Contents",
   "toc_cell": false,
   "toc_position": {},
   "toc_section_display": true,
   "toc_window_display": false
  },
  "varInspector": {
   "cols": {
    "lenName": 16,
    "lenType": 16,
    "lenVar": 40
   },
   "kernels_config": {
    "python": {
     "delete_cmd_postfix": "",
     "delete_cmd_prefix": "del ",
     "library": "var_list.py",
     "varRefreshCmd": "print(var_dic_list())"
    },
    "r": {
     "delete_cmd_postfix": ") ",
     "delete_cmd_prefix": "rm(",
     "library": "var_list.r",
     "varRefreshCmd": "cat(var_dic_list()) "
    }
   },
   "types_to_exclude": [
    "module",
    "function",
    "builtin_function_or_method",
    "instance",
    "_Feature"
   ],
   "window_display": false
  }
 },
 "nbformat": 4,
 "nbformat_minor": 4
}
